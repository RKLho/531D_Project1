{
 "cells": [
  {
   "cell_type": "code",
   "execution_count": 73,
   "source": [
    "import tools\n",
    "import numpy as np\n",
    "import Part1\n",
    "\n",
    "def paa(T, c):\n",
    "    \"\"\"\n",
    "    PAA cuts a trajectory T of size n into N = n/c pieces,\n",
    "    For each piece i, it computes the average point Pi as representative point\n",
    "    \"\"\"\n",
    "    if c>len(T): \n",
    "        raise Exception(\"Samples number cannot be bigger than number of points\")\n",
    "    ans = []\n",
    "    rg = int(len(T)/c)\n",
    "    rem = len(T)%c\n",
    "    for idx in range(rg):\n",
    "        ans.append(np.average(T[idx*c:(idx+1)*c], axis=0))\n",
    "    if rem>0:\n",
    "        ans.append(np.average(T[rg*c:rg*c+rem]))\n",
    "    return ans\n",
    "\n",
    "def pdtw(T1, T2, c):\n",
    "    sT1 = paa(T1, c)\n",
    "    sT2 = paa(T2, c)\n",
    "    _dist_matrix, warp_path=Part1.dtw(sT1, sT2)\n",
    "    \n",
    "    return warp_path"
   ],
   "outputs": [],
   "metadata": {}
  },
  {
   "cell_type": "code",
   "execution_count": 26,
   "source": [
    "Data_Highway = tools.read_trajectories(\"../data/highway.csv\")\n",
    "data = tools.reconstruct(Data_Highway)"
   ],
   "outputs": [],
   "metadata": {}
  },
  {
   "cell_type": "code",
   "execution_count": 75,
   "source": [
    "curr = np.array([0.0,0.0])\n",
    "c=2\n",
    "l = len(data[0])\n",
    "print(l)\n",
    "rg = int(l/c)\n",
    "rem = l%c\n",
    "for idx in range(rg):\n",
    "    print(data[0][idx*c:(idx+1)*c])\n",
    "    print(np.average(data[0][idx*c:(idx+1)*c], axis=0))\n",
    "if rem>0:\n",
    "    print(data[0][rg*c:rg*c+rem])\n",
    "\n",
    "paa(data[0], 2)"
   ],
   "outputs": [
    {
     "output_type": "stream",
     "name": "stdout",
     "text": [
      "18\n",
      "[[4.585165010891318, 52.36617100155285], [8.39230843982636, 52.932287911444966]]\n",
      "[ 6.48873673 52.64922946]\n",
      "[[9.22486753569087, 50.995742355737065], [11.463424594269528, 47.14214750643927]]\n",
      "[10.34414606 49.06894493]\n",
      "[[15.415455171750672, 50.74621412040997], [20.66701770507021, 54.89248977438185]]\n",
      "[18.04123644 52.81935195]\n",
      "[[25.48279516815153, 53.674060842588865], [25.292317973950237, 51.420745176370026]]\n",
      "[25.38755657 52.54740301]\n",
      "[[33.56161725709149, 50.974900271848824], [35.97137612657253, 51.332055574958474]]\n",
      "[34.76649669 51.15347792]\n",
      "[[37.82580239709949, 50.43629146567749], [45.634207449935886, 51.98448809544414]]\n",
      "[41.73000492 51.21038978]\n",
      "[[46.90657263658545, 49.44300557897457], [52.004766061367654, 50.503477936855404]]\n",
      "[49.45566935 49.97324176]\n",
      "[[55.15812711391811, 50.838642962021616], [55.725459768693035, 52.78323989805623]]\n",
      "[55.44179344 51.81094143]\n",
      "[[61.76856218048111, 51.416603560546605], [64.74936921924899, 49.92976786820428]]\n",
      "[63.2589657  50.67318571]\n"
     ]
    },
    {
     "output_type": "execute_result",
     "data": {
      "text/plain": [
       "[array([ 6.48873673, 52.64922946]),\n",
       " array([10.34414606, 49.06894493]),\n",
       " array([18.04123644, 52.81935195]),\n",
       " array([25.38755657, 52.54740301]),\n",
       " array([34.76649669, 51.15347792]),\n",
       " array([41.73000492, 51.21038978]),\n",
       " array([49.45566935, 49.97324176]),\n",
       " array([55.44179344, 51.81094143]),\n",
       " array([63.2589657 , 50.67318571])]"
      ]
     },
     "metadata": {},
     "execution_count": 75
    }
   ],
   "metadata": {}
  },
  {
   "cell_type": "code",
   "execution_count": 33,
   "source": [
    "paa(data[0], 2)"
   ],
   "outputs": [
    {
     "output_type": "stream",
     "name": "stdout",
     "text": [
      "[] 0\n"
     ]
    },
    {
     "output_type": "error",
     "ename": "TypeError",
     "evalue": "can only concatenate list (not \"int\") to list",
     "traceback": [
      "\u001b[0;31m---------------------------------------------------------------------------\u001b[0m",
      "\u001b[0;31mTypeError\u001b[0m                                 Traceback (most recent call last)",
      "\u001b[0;32m<ipython-input-33-efe4a6ae8dfa>\u001b[0m in \u001b[0;36m<module>\u001b[0;34m\u001b[0m\n\u001b[0;32m----> 1\u001b[0;31m \u001b[0mpaa\u001b[0m\u001b[0;34m(\u001b[0m\u001b[0mdata\u001b[0m\u001b[0;34m[\u001b[0m\u001b[0;36m0\u001b[0m\u001b[0;34m]\u001b[0m\u001b[0;34m,\u001b[0m \u001b[0;36m2\u001b[0m\u001b[0;34m)\u001b[0m\u001b[0;34m\u001b[0m\u001b[0;34m\u001b[0m\u001b[0m\n\u001b[0m",
      "\u001b[0;32m<ipython-input-32-9d48d2d50f7e>\u001b[0m in \u001b[0;36mpaa\u001b[0;34m(T, c)\u001b[0m\n\u001b[1;32m     14\u001b[0m     \u001b[0;32mfor\u001b[0m \u001b[0;34m(\u001b[0m\u001b[0mpoint\u001b[0m\u001b[0;34m,\u001b[0m\u001b[0mi\u001b[0m\u001b[0;34m)\u001b[0m \u001b[0;32min\u001b[0m \u001b[0menumerate\u001b[0m\u001b[0;34m(\u001b[0m\u001b[0mT\u001b[0m\u001b[0;34m)\u001b[0m\u001b[0;34m:\u001b[0m\u001b[0;34m\u001b[0m\u001b[0;34m\u001b[0m\u001b[0m\n\u001b[1;32m     15\u001b[0m         \u001b[0mprint\u001b[0m\u001b[0;34m(\u001b[0m\u001b[0mcurr\u001b[0m\u001b[0;34m,\u001b[0m \u001b[0mpoint\u001b[0m\u001b[0;34m)\u001b[0m\u001b[0;34m\u001b[0m\u001b[0;34m\u001b[0m\u001b[0m\n\u001b[0;32m---> 16\u001b[0;31m         \u001b[0mcurr\u001b[0m \u001b[0;34m=\u001b[0m \u001b[0mcurr\u001b[0m \u001b[0;34m+\u001b[0m \u001b[0mpoint\u001b[0m\u001b[0;34m\u001b[0m\u001b[0;34m\u001b[0m\u001b[0m\n\u001b[0m\u001b[1;32m     17\u001b[0m         \u001b[0;32mif\u001b[0m \u001b[0mi\u001b[0m\u001b[0;34m%\u001b[0m\u001b[0mc\u001b[0m\u001b[0;34m==\u001b[0m\u001b[0;36m0\u001b[0m\u001b[0;34m:\u001b[0m\u001b[0;34m\u001b[0m\u001b[0;34m\u001b[0m\u001b[0m\n\u001b[1;32m     18\u001b[0m             \u001b[0mans\u001b[0m\u001b[0;34m.\u001b[0m\u001b[0mappend\u001b[0m\u001b[0;34m(\u001b[0m\u001b[0mcurr\u001b[0m\u001b[0;34m/\u001b[0m\u001b[0mc\u001b[0m\u001b[0;34m)\u001b[0m\u001b[0;34m\u001b[0m\u001b[0;34m\u001b[0m\u001b[0m\n",
      "\u001b[0;31mTypeError\u001b[0m: can only concatenate list (not \"int\") to list"
     ]
    }
   ],
   "metadata": {}
  },
  {
   "cell_type": "code",
   "execution_count": null,
   "source": [],
   "outputs": [],
   "metadata": {}
  }
 ],
 "metadata": {
  "orig_nbformat": 4,
  "language_info": {
   "name": "python",
   "version": "3.8.5",
   "mimetype": "text/x-python",
   "codemirror_mode": {
    "name": "ipython",
    "version": 3
   },
   "pygments_lexer": "ipython3",
   "nbconvert_exporter": "python",
   "file_extension": ".py"
  },
  "kernelspec": {
   "name": "python3",
   "display_name": "Python 3.8.5 64-bit ('base': conda)"
  },
  "interpreter": {
   "hash": "e134e05457d34029b6460cd73bbf1ed73f339b5b6d98c95be70b69eba114fe95"
  }
 },
 "nbformat": 4,
 "nbformat_minor": 2
}